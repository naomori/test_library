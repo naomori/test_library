{
 "cells": [
  {
   "cell_type": "markdown",
   "source": [
    "[GoogleTest]: https://github.com/google/googletest\n",
    "# スパイ(Spying)とモック(Mocking)\n",
    "\n",
    "[GoogleTest][]を使って、\n",
    "[テスト駆動開発による組み込みプログラミング\n",
    "――C言語とオブジェクト指向で学ぶアジャイルな設計](https://www.oreilly.co.jp/books/9784873116143/)\n",
    "を実践に応用しました。\n",
    "\n",
    "テストにおけるスパイとモックとは、以下のような役割のものと解釈しました。  \n",
    "※個人的な解釈ですので、厳密には間違っている可能性があります。\n",
    "\n",
    "### スパイ(Spying)\n",
    "* テスト対象のオブジェクト(Object Under Test:OUT)に渡されたパラメタを記録して、意図した値・意図した頻度で\n",
    "パラメタが渡されているかを記録します。\n",
    "* テスト対象のオブジェクト(OUT)内部で保持するデータ構造が意図した通りに操作されているか、\n",
    "意図したデータが記録されているかを確認します。\n",
    "\n",
    "![Spying](images/Spying.png)\n",
    "\n",
    "### モック(Mocking)\n",
    "* テスト対象のオブジェクト(OUT)が、他のオブジェクトに依存している場合、\n",
    "そのオブジェクトの代用品として動作します。\n",
    "* テスト対象のオブジェクト(OUT)が、他のオブジェクトを意図した通りに呼び出しているか、\n",
    "他のオブジェクトから出力された結果を意図通りに操作しているかを確認します。\n",
    "\n",
    "![Mocking](images/Mocking.png)\n"
   ],
   "metadata": {
    "collapsed": false
   }
  },
  {
   "cell_type": "markdown",
   "metadata": {
    "pycharm": {
     "name": "#%% md\n"
    }
   },
   "source": [
    "# Spying\n",
    "\n",
    "Spy の利用においては、Spy によるテストを踏まえて、テスト対象コードの実装方法についても考慮が必要です。\n",
    "以下にテスト対象コードの実装方法について注意点を記します。\n",
    "\n",
    "#### OUT内部データ構造へのアクセス\n",
    "* `*.c` に構造体定義を置かないこと。 \n",
    "* private な構造体は `*_private.h` などに定義し、本実装では `#include` の呼び出し元を制限しておくこと。\n",
    "\n",
    "こうすることで、Spyコードが内部データに対してアクセスできます。\n",
    "\n",
    "#### OUT内部関数の Wrapping\n",
    "* 多段 spy が出来るように、OUT内のプライベート関数は、関数テーブルからの呼び出しにすること\n",
    "\n",
    "こうすることで、OUT内のプライベート関数も Spy 関数による置き換えができるようになり、\n",
    "OUTの挙動を確認できます。\n"
   ]
  },
  {
   "cell_type": "markdown",
   "source": [
    "# テストを考慮した実装例\n",
    "\n",
    "以下のように、メソッドと内部データを保持するための構造体を定義していたとします。\n",
    "\n",
    "```C:hoge_private.h\n",
    "typedef struct hoge_struct {\n",
    "    void (*inc_x)(struct hoge_struct *self, int x);\n",
    "    void (*inc_10)(struct hoge_struct *self);\n",
    "    bool (*ge_x)(struct hoge_struct *self, int x);\n",
    "    \n",
    "    int total;\n",
    "} *hoge;\n",
    "```\n"
   ],
   "metadata": {
    "collapsed": false
   }
  },
  {
   "cell_type": "markdown",
   "source": [
    "# テストを考慮した実装例(cont'd)\n",
    "\n",
    "この hoge モジュールを以下のように実装していたとします。\n",
    "\n",
    "```C:hoge.c\n",
    "// private definitions\n",
    "#include \"hoge_private.h\"\n",
    "\n",
    "// prototypes of private functions\n",
    "static void inc_x(struct hoge_struct *self, int x);\n",
    "static void inc_10(struct hoge_struct *self);\n",
    "static bool ge_x(struct hoge_struct *self, int x);\n",
    "\n",
    "// public functions\n",
    "void *\n",
    "hoge_new(void)\n",
    "{\n",
    "    void *hoge;\n",
    "    hoge = calloc(1, sizeof(struct hoge_struct));\n",
    "    if (!hoge) {\n",
    "        // error message\n",
    "        return NULL;\n",
    "    }\n",
    "    hoge->inc_x = inc_x;\n",
    "    hoge->inc_10 = inc_10;\n",
    "    hoge->ge_x = ge_x;\n",
    "    hoge->total = 0;\n",
    "    return hoge;\n",
    "}\n",
    "\n",
    "// private functions\n",
    "static void\n",
    "inc_x(struct hoge_struct *self, int x)\n",
    "{\n",
    "    self->total += x;\n",
    "}\n",
    "\n",
    "static void\n",
    "inc_10(struct hoge_struct *self)\n",
    "{\n",
    "    self->total += 10;\n",
    "}\n",
    "\n",
    "static bool\n",
    "ge_x(struct hoge_struct *self, int x)\n",
    "{\n",
    "    return (self->total >= x) ? true : false;\n",
    "}\n",
    "```\n",
    "\n",
    "\n"
   ],
   "metadata": {
    "collapsed": false
   }
  },
  {
   "cell_type": "markdown",
   "source": [
    "# Implementation of Spying\n",
    "\n",
    "```C:spy_hoge.c\n",
    "// OUT の private データ構造体(struct hoge_struct)\n",
    "#include \"hoge_private.h\"\n",
    "\n",
    "typedef struct spy_hoge_struct {\n",
    "    struct hoge_struct orig;\n",
    "    // 呼び出し履歴記録\n",
    "} *spy_hoge;\n",
    "```\n"
   ],
   "metadata": {
    "collapsed": false
   }
  },
  {
   "cell_type": "markdown",
   "metadata": {
    "pycharm": {
     "name": "#%% md\n"
    }
   },
   "source": [
    "# Mocking\n"
   ]
  }
 ],
 "metadata": {
  "celltoolbar": "Slideshow",
  "kernelspec": {
   "display_name": "Python 3",
   "language": "python",
   "name": "python3"
  },
  "language_info": {
   "codemirror_mode": {
    "name": "ipython",
    "version": 3
   },
   "file_extension": ".py",
   "mimetype": "text/x-python",
   "name": "python",
   "nbconvert_exporter": "python",
   "pygments_lexer": "ipython3",
   "version": "3.7.3"
  },
  "pycharm": {
   "stem_cell": {
    "cell_type": "raw",
    "source": [],
    "metadata": {
     "collapsed": false
    }
   }
  }
 },
 "nbformat": 4,
 "nbformat_minor": 1
}