{
 "cells": [
  {
   "cell_type": "markdown",
   "source": [
    "[GoogleTest]: https://github.com/google/googletest\n",
    "# スパイ(Spying)とモック(Mocking)\n",
    "\n",
    "[GoogleTest][]を使って、\n",
    "[テスト駆動開発による組み込みプログラミング\n",
    "――C言語とオブジェクト指向で学ぶアジャイルな設計](https://www.oreilly.co.jp/books/9784873116143/)\n",
    "を実践に応用しました。\n",
    "\n",
    "テストにおけるスパイとモックとは、以下のような役割のものと解釈しました。  \n",
    "※個人的な解釈ですので、厳密には間違っている可能性があります。\n",
    "\n",
    "### スパイ(Spying)\n",
    "* テスト対象のオブジェクト(Object Under Test:OUT)に渡されたパラメタを記録して、意図した値・意図した頻度で\n",
    "パラメタが渡されているかを記録します。\n",
    "* テスト対象のオブジェクト(OUT)内部で保持するデータ構造が意図した通りに操作されているか、\n",
    "意図したデータが記録されているかを確認します。\n",
    "\n",
    "![Spying](images/Spying.png)\n",
    "\n",
    "### モック(Mocking)\n",
    "* テスト対象のオブジェクト(OUT)が、他のオブジェクトに依存している場合、\n",
    "そのオブジェクトの代用品として動作します。\n",
    "* テスト対象のオブジェクト(OUT)が、他のオブジェクトを意図した通りに呼び出しているか、\n",
    "他のオブジェクトから出力された結果を意図通りに操作しているかを確認します。\n",
    "\n",
    "![Mocking](images/Mocking.png)\n"
   ],
   "metadata": {
    "collapsed": false
   }
  },
  {
   "cell_type": "markdown",
   "metadata": {
    "pycharm": {
     "name": "#%% md\n"
    }
   },
   "source": [
    "# Spying\n",
    "\n",
    "Spy の利用においては、Spy によるテストを踏まえて、テスト対象コードの実装方法についても考慮が必要です。\n",
    "以下にテスト対象コードの実装方法について注意点を記します。\n",
    "\n",
    "#### OUT内部データ構造へのアクセス\n",
    "* `*.c` に構造体定義を置かないこと。 \n",
    "* private な構造体は `*_private.h` などに定義し、\n",
    "本実装では `#include` の呼び出し元を制限しておくこと。\n",
    "\n",
    "こうすることで、Spyコードが内部データに対してアクセスできます。\n",
    "\n",
    "#### OUT内部関数の Wrapping\n",
    "* 多段 spy が出来るように、OUT内のプライベート関数は、関数テーブルからの呼び出しにすること\n",
    "\n",
    "こうすることで、OUT内のプライベート関数も Spy 関数による置き換えができるようになり、\n",
    "OUTの挙動を確認できます。\n"
   ]
  },
  {
   "cell_type": "markdown",
   "source": [
    "# テストを考慮した実装例\n",
    "\n",
    "以下のように、メソッドと内部データを保持するための構造体を定義していたとします。\n",
    "このような定義ファイルは \"*.c\" では定義せず、\"*.h\"として別ファイルに置きます。\n",
    "\n",
    "```C:hoge_private.h\n",
    "typedef struct hoge_struct {\n",
    "    void (*self_destroy)(struct hoge_struct *self);\n",
    "\n",
    "    void (*inc_x)(struct hoge_struct *self, int x);\n",
    "    void (*inc_10)(struct hoge_struct *self);\n",
    "    bool (*ge_x)(struct hoge_struct *self, int x);\n",
    "    \n",
    "    int total;\n",
    "} *hoge_ptr;\n",
    "```\n"
   ],
   "metadata": {
    "collapsed": false
   }
  },
  {
   "cell_type": "markdown",
   "source": [
    "# テストを考慮した実装例(cont'd)\n",
    "\n",
    "この hoge モジュールのメソッドを以下のように実装します。\n",
    "\n",
    "```C:hoge.c\n",
    "// private definitions\n",
    "#include \"hoge_private.h\"\n",
    "\n",
    "// prototypes of private functions\n",
    "static void self_destroy(struct hoge_struct *self);\n",
    "static void inc_x(struct hoge_struct *self, int x);\n",
    "static void inc_10(struct hoge_struct *self);\n",
    "static bool ge_x(struct hoge_struct *self, int x);\n",
    "\n",
    "// public functions\n",
    "void *\n",
    "hoge_new(void)\n",
    "{\n",
    "    void *h;\n",
    "    h = osal_calloc(1, sizeof(struct hoge_struct));\n",
    "    if (!h) {\n",
    "        // error message\n",
    "        return NULL;\n",
    "    }\n",
    "    hoge_ptr hoge = (hoge_ptr)h;\n",
    "    hoge->self_destroy = self_destroy;\n",
    "    hoge->inc_x = inc_x;\n",
    "    hoge->inc_10 = inc_10;\n",
    "    hoge->ge_x = ge_x;\n",
    "    hoge->total = 0;\n",
    "    return hoge;\n",
    "}\n",
    "\n",
    "// private functions\n",
    "\n",
    "static void\n",
    "self_destroy(struct hoge_struct *self)\n",
    "{\n",
    "    if (!self)\n",
    "        return;\n",
    "    osal_free(self);\n",
    "}\n",
    "\n",
    "static void\n",
    "inc_x(struct hoge_struct *self, int x)\n",
    "{\n",
    "    self->total += x;\n",
    "}\n",
    "\n",
    "static void\n",
    "inc_10(struct hoge_struct *self)\n",
    "{\n",
    "    self->total += 10;\n",
    "}\n",
    "\n",
    "static bool\n",
    "ge_x(struct hoge_struct *self, int x)\n",
    "{\n",
    "    return (self->total >= x) ? true : false;\n",
    "}\n",
    "```\n"
   ],
   "metadata": {
    "collapsed": false
   }
  },
  {
   "cell_type": "markdown",
   "source": [
    "# テストを考慮した実装例(cont'd)\n",
    "\n",
    "さらに hoge モジュールのメソッドを他から呼び出させるように、\n",
    "hoge モジュール用APIを定義します。\n",
    "\n",
    "```C:hoge.c\n",
    "void\n",
    "hoge_destroy(void *self)\n",
    "{\n",
    "    hoge_ptr hoge = (hoge_ptr)self;\n",
    "    if (!hoge->self_destroy)\n",
    "        return;\n",
    "    (*hoge->self_destroy)(hoge);\n",
    "}\n",
    "\n",
    "void\n",
    "hoge_inc(void *self, int x)\n",
    "{\n",
    "    hoge_ptr hoge = (hoge_ptr)self;\n",
    "    if (!hoge->inc_x)\n",
    "        return;\n",
    "    (*hoge->inc_x)(hoge, x);\n",
    "}\n",
    "\n",
    "void\n",
    "hoge_inc10(void *self)\n",
    "{\n",
    "    hoge_ptr hoge = (hoge_ptr)self;\n",
    "    if (!hoge->inc_10)\n",
    "        return;\n",
    "    (*hoge->inc_10)(hoge);\n",
    "}\n",
    "\n",
    "bool\n",
    "hoge_ge(void *self, int x)\n",
    "{\n",
    "    hoge_ptr hoge = (hoge_ptr)self;\n",
    "    if (!hoge->ge_x)\n",
    "        return;\n",
    "    return (*hoge->ge_x)(hoge, x);\n",
    "}\n",
    "```\n",
    "\n",
    "他モジュールから呼び出せるように、\n",
    "ヘッダファイルに関数を宣言します。\n",
    "\n",
    "```C:hoge.h\n",
    "void *hoge_new(void);\n",
    "void hoge_destroy(void *h);\n",
    "\n",
    "void hoge_inc(void *self, int x);\n",
    "void hoge_inc10(void *self);\n",
    "bool hoge_ge(void *self, int x);\n",
    "```\n"
   ],
   "metadata": {
    "collapsed": false
   }
  },
  {
   "cell_type": "markdown",
   "source": [
    "# Spy の実装\n",
    "\n",
    "この例の Spy はモジュール hoge の関数呼び出しの回数をカウントして、\n",
    "その呼び出し回数を取得することができます。\n",
    "\n",
    "そこで、spy用に spy_hoge_struct を定義して、\n",
    "original の hoge_struct へのアクセスを\n",
    "spy 用の hoge_struct を経由させるようにします。\n",
    "\n",
    "```C:spy_hoge.c\n",
    "// OUT の private データ構造体(struct hoge_struct)\n",
    "#include \"hoge_private.h\"\n",
    "\n",
    "typedef struct spy_hoge_struct {\n",
    "    struct hoge_struct spy; ///< spy用の hoge_struct\n",
    "    struct hoge_struct orig;///< original の hoge_struct\n",
    "    \n",
    "    int call_count[3/*inc,inc10,ge*/]; ///< 呼び出し履歴記録\n",
    "} *spy_hoge;\n",
    "```"
   ],
   "metadata": {
    "collapsed": false
   }
  },
  {
   "cell_type": "markdown",
   "source": [
    "# Spy の実装(cont'd)\n",
    "\n",
    "spy用の hoge_struct のコンストラクタを以下のように、\n",
    "realloc()でメモリ領域を拡張して、\n",
    "先頭の hoge メソッドを spy メソッドに置き換えます。\n",
    "\n",
    "```C:spy_hoge.c\n",
    "void *\n",
    "spy_hoge_new(void)\n",
    "{\n",
    "    void *orig;\n",
    "    orig = hoge_new();\n",
    "    if (!orig) {\n",
    "        return NULL;\n",
    "    }\n",
    "    spy_hoge_ptr spy_hoge;\n",
    "    spy_hoge = realloc(orig, sizeof(*spy_hoge));\n",
    "    if (!spy_hoge) {\n",
    "        free(orig);\n",
    "        return NULL;\n",
    "    }\n",
    "    memcpy(&spy_hoge->orig, orig, sizeof(spy_hoge->orig));\n",
    "    memset(spy_hoge->call_count, 0, sizeof(spy_hoge->call_count));\n",
    "    spy_hoge->spy.self_destroy = spy_destroy;\n",
    "    spy_hoge->spy.inc_x = spy_inc_x;\n",
    "    spy_hoge->spy.inc_10 = spy_inc_10;\n",
    "    spy_hoge->spy.ge_x = spy_ge_x;\n",
    "\n",
    "    return spy_hoge;\n",
    "}\n",
    "```"
   ],
   "metadata": {
    "collapsed": false
   }
  },
  {
   "cell_type": "markdown",
   "source": [
    "# Spy の実装(cont'd)\n",
    "\n",
    "それぞれの spy メソッドは、各API呼び出しのカウントをインクリメントさせた上で、\n",
    "original のメソッドを呼び出すようにします。\n",
    "\n",
    "```C:spy_hoge.c\n",
    "static void\n",
    "spy_destroy(struct hoge_struct *self)\n",
    "{\n",
    "    if (!self) {\n",
    "        return;\n",
    "    }\n",
    "    spy_hoge_ptr spy_hoge = (spy_hoge_ptr)self;\n",
    "    for (int idx = 0; idx < API_NUM; idx++) {\n",
    "        printf(\"idx:%s, count:%d\\n\",\n",
    "                spy_hoge_id2str(idx), spy_hoge->call_count[idx]);\n",
    "    }\n",
    "    // you fall into infinite loop unless you use an original function.\n",
    "    spy_hoge->spy.self_destroy = spy_hoge->orig.self_destroy;\n",
    "    hoge_destroy(spy_hoge);\n",
    "}\n",
    "\n",
    "static void\n",
    "spy_inc_x(struct hoge_struct *self, int x)\n",
    "{\n",
    "    spy_hoge_ptr spy_hoge = (spy_hoge_ptr)self;\n",
    "    spy_hoge->call_count[API_INC_X]++;\n",
    "    return hoge_inc(&spy_hoge->orig, x);\n",
    "}\n",
    "\n",
    "static void\n",
    "spy_inc_10(struct hoge_struct *self)\n",
    "{\n",
    "    spy_hoge_ptr spy_hoge = (spy_hoge_ptr)self;\n",
    "    spy_hoge->call_count[API_INC_10]++;\n",
    "    return hoge_inc10(&spy_hoge->orig);\n",
    "}\n",
    "\n",
    "static bool\n",
    "spy_ge_x(struct hoge_struct *self, int x)\n",
    "{\n",
    "    spy_hoge_ptr spy_hoge = (spy_hoge_ptr)self;\n",
    "    spy_hoge->call_count[API_GE]++;\n",
    "    return hoge_ge(&spy_hoge->orig, x);\n",
    "}\n",
    "```"
   ],
   "metadata": {
    "collapsed": false
   }
  },
  {
   "cell_type": "markdown",
   "source": [
    "# Spy の実装(cont'd)\n",
    "\n",
    "spy メソッドの実装の他に、テスト用に各APIカウントを取得するAPIを実装します。\n",
    "\n",
    "```C:spy_hoge.c\n",
    "int\n",
    "spy_hoge_count_inc_x(void *spy)\n",
    "{\n",
    "    spy_hoge_ptr spy_hoge = (spy_hoge_ptr)spy;\n",
    "    return spy_hoge->call_count[API_INC_X];\n",
    "}\n",
    "\n",
    "int\n",
    "spy_hoge_count_inc_10(void *spy)\n",
    "{\n",
    "    spy_hoge_ptr spy_hoge = (spy_hoge_ptr)spy;\n",
    "    return spy_hoge->call_count[API_INC_10];\n",
    "}\n",
    "\n",
    "int\n",
    "spy_hoge_count_ge(void *spy)\n",
    "{\n",
    "    spy_hoge_ptr spy_hoge = (spy_hoge_ptr)spy;\n",
    "    return spy_hoge->call_count[API_GE];\n",
    "}\n",
    "```"
   ],
   "metadata": {
    "collapsed": false
   }
  },
  {
   "cell_type": "markdown",
   "source": [
    "# Spy テストの実装\n",
    "\n",
    "ここまでで、Spy実装を使って hoge モジュールをテストすることができます。\n",
    "まずは、GoogleTestヘッダファイルなど、関連ヘッダファイルをインクルードします。\n",
    "\n",
    "```cpp:Test_hoge_spy.cpp\n",
    "#include \"gtest/gtest.h\"\n",
    "\n",
    "// include the api headers for \"hoge\"\n",
    "#include \"hoge.h\"\n",
    "\n",
    "// include spy headers for \"hoge\"\n",
    "#include \"spy_hoge.h\"\n",
    "```"
   ],
   "metadata": {
    "collapsed": false
   }
  },
  {
   "cell_type": "markdown",
   "source": [
    "# Spy テストの実装(cont'd)\n",
    "\n",
    "Spy テスト用のクラスを定義します。\n",
    "SetUp()において、spy_hoge_new()で spy 用の hoge クラスを生成します。\n",
    "\n",
    "```cpp:Test_hoge_spy.cpp\n",
    "// Test Class\n",
    "\n",
    "class Test_hoge_spy: public ::testing::Test {\n",
    "protected:\n",
    "    virtual void SetUp() {\n",
    "        hoge = spy_hoge_new();\n",
    "    }\n",
    "    virtual void TearDown() {\n",
    "        hoge_destroy(hoge);\n",
    "    }\n",
    "\n",
    "    void *hoge;\n",
    "};\n",
    "```"
   ],
   "metadata": {
    "collapsed": false,
    "pycharm": {
     "name": "#%% md\n"
    }
   }
  },
  {
   "cell_type": "markdown",
   "source": [
    "# Spy テストの実装(cont'd)\n",
    "\n",
    "spy 用の hoge クラスを生成した後は、\n",
    "original の\n",
    "\n",
    "\n",
    "```cpp:Test_hoge_spy.cpp\n",
    "TEST_F(Test_hoge_spy, inc_x)\n",
    "{\n",
    "    for (int i = 0; i < 10; i++) {\n",
    "        hoge_inc(hoge, 1);\n",
    "    }\n",
    "    ASSERT_TRUE(hoge_ge(hoge, 10));\n",
    "    ASSERT_FALSE(hoge_ge(hoge, 11));\n",
    "\n",
    "    ASSERT_EQ(10, spy_hoge_count_inc_x(hoge));\n",
    "    ASSERT_EQ(0, spy_hoge_count_inc_10(hoge));\n",
    "    ASSERT_EQ(2, spy_hoge_count_ge(hoge));\n",
    "}\n",
    "\n",
    "TEST_F(Test_hoge_spy, inc_10)\n",
    "{\n",
    "    hoge_inc10(hoge);\n",
    "    ASSERT_TRUE(hoge_ge(hoge, 10));\n",
    "    ASSERT_FALSE(hoge_ge(hoge, 11));\n",
    "\n",
    "    ASSERT_EQ(0, spy_hoge_count_inc_x(hoge));\n",
    "    ASSERT_EQ(1, spy_hoge_count_inc_10(hoge));\n",
    "    ASSERT_EQ(2, spy_hoge_count_ge(hoge));\n",
    "}\n",
    "```"
   ],
   "metadata": {
    "collapsed": false
   }
  },
  {
   "cell_type": "markdown",
   "metadata": {
    "pycharm": {
     "name": "#%% md\n"
    }
   },
   "source": [
    "# Mocking\n"
   ]
  }
 ],
 "metadata": {
  "celltoolbar": "Slideshow",
  "kernelspec": {
   "display_name": "Python 3",
   "language": "python",
   "name": "python3"
  },
  "language_info": {
   "codemirror_mode": {
    "name": "ipython",
    "version": 3
   },
   "file_extension": ".py",
   "mimetype": "text/x-python",
   "name": "python",
   "nbconvert_exporter": "python",
   "pygments_lexer": "ipython3",
   "version": "3.7.3"
  },
  "pycharm": {
   "stem_cell": {
    "cell_type": "raw",
    "source": [],
    "metadata": {
     "collapsed": false
    }
   }
  }
 },
 "nbformat": 4,
 "nbformat_minor": 1
}