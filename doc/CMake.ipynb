{
 "cells": [
  {
   "cell_type": "markdown",
   "source": [
    "[CMake]: https://cmake.org/\n",
    "# [CMake][]によるBuild環境構築\n",
    "\n",
    "directory 構成を以下のようにします。  \n",
    "\"*.[ch]\"などのソースコードは **src** ディレクトリ以下に配置し、  \n",
    "\"*.{cpp,hpp}\"などのテストコードは **test** ディレクトリ以下に配置するようにします。\n",
    "\n",
    "```Console:toplevel\n",
    ".\n",
    "├── CMakeLists.txt\n",
    "├── config\n",
    "├── doc\n",
    "├── src\n",
    "└── test\n",
    "```\n"
   ],
   "metadata": {
    "collapsed": false
   }
  },
  {
   "cell_type": "markdown",
   "metadata": {
    "pycharm": {
     "name": "#%% md\n"
    },
    "slideshow": {
     "slide_type": "slide"
    }
   },
   "source": [
    "[CMake]: https://cmake.org/\n",
    "# 基本的な設定項目\n",
    "top-directoryにある`CMakeLists.txt`では、\n",
    "まず、以下の基本的なものを設定します。\n",
    "\n",
    "```CMake:<top-directory>/CMakeLists.txt\n",
    "cmake_minimum_required(VERSION 3.11)\n",
    "project(test_library)\n",
    "```\n",
    "\n",
    "* `cmake_minimum_required()`で [CMake][]の要求バージョンを指定します。\n",
    "手元で使っているバージョンが`3.11`だからですが、 特別な機能を使っているわけではないです。 \n",
    "そのため、異なるバージョンでも大丈夫だと思います。\n",
    "* `project()`でプロジェクトの名前を指定します。\n",
    "ここで指定した名前は、`CMAKE_PROJECT_NAME`という変数に設定され、使用できます。\n"
   ]
  },
  {
   "cell_type": "markdown",
   "metadata": {
    "slideshow": {
     "slide_type": "slide"
    }
   },
   "source": [
    "# CMAKE変数とCACHE変数\n",
    "`CACHE` 指定がない場合は、そのファイル内でしか使用できませんが、\n",
    "`CACHE` 指定すると、指定した以降の他の`CMakeLists.txt`,sub-directoryからでも使用できます。\n",
    "\n",
    "```CMake:<top-directory>/CMakeLists.txt\n",
    "set(proj_topdir ${PROJECT_SOURCE_DIR})\n",
    "set(src_dir ${proj_topdir}/src CACHE FILEPATH \"source directory\")\n",
    "```\n",
    "\n",
    "* 変数`proj_topdir`に、CMAKE変数`PROJECT_SOURCE_DIR`の値を設定しています。\n",
    "CMAKE変数`${PROJECT_SOURCE_DIR}`には、現在のプロジェクトのトップディレクトリが設定されています。\n",
    "* 変数`src_dir`に本プロジェクトのsource-directoryの位置を設定しています。\n",
    "source-directory の sub-directory から直下のヘッダファイルを`include`する必要があるため、\n",
    "後で使用できるように`CACHE`で指定します。\n"
   ]
  },
  {
   "cell_type": "markdown",
   "metadata": {
    "slideshow": {
     "slide_type": "slide"
    }
   },
   "source": [
    "[jansson]: http://www.digip.org/jansson/\n",
    "[GoogleTest]: https://github.com/google/googletest\n",
    "# 外部プロジェクトの取り込み\n",
    "\n",
    "`CMake`は外部プロジェクトを取り込むことができます。\n",
    "\n",
    "本プロジェクトでは設定ファイルとしてjson形式のファイルを用いており、\n",
    "C言語のjsonライブラリである[jansson][]を利用して、設定ファイルの読み込みを行います。\n",
    "また、UnitTestとして[GoogleTest][]を使用します。\n",
    "\n",
    "```CMake:<top-directory>/CMakeLists.txt\n",
    "find_package(Threads REQUIRED)\n",
    "find_package(GTest 1.8.1 REQUIRED)\n",
    "find_package(jansson REQUIRED)\n",
    "```\n"
   ]
  },
  {
   "cell_type": "markdown",
   "metadata": {
    "slideshow": {
     "slide_type": "subslide"
    }
   },
   "source": [
    "[jansson]: http://www.digip.org/jansson/\n",
    "[GoogleTest]: https://github.com/google/googletest\n",
    "[CMake]: https://cmake.org/\n",
    "# 外部プロジェクトの取り込み (cont'd)\n",
    "\n",
    "`find_package()`コマンドにより使用できる外部プロジェクトは、\n",
    "[CMake][]によるパッケージ探索に対応している必要があります。\n",
    "\n",
    "[jansson][],[GoogleTest][]ともに、[CMake][]に対応しています。  \n",
    "[jansson][]-2.12, [GoogleTest][]-1.8.1 のソースコードをダウンロードして、\n",
    "インストールすると、`/usr/local/lib/cmake`以下に `jansson`, `GTest` という\n",
    "名前のディレクトリが作成されており、`*.cmake` という名前のファイルが置かれています。  \n",
    "これが`find_package()`の探索対象となり、インクルードパス・リンクパスが設定されます。\n"
   ]
  },
  {
   "cell_type": "markdown",
   "metadata": {
    "pycharm": {
     "name": "#%% md\n"
    },
    "slideshow": {
     "slide_type": "slide"
    }
   },
   "source": [
    "[GoogleTest]: https://github.com/google/googletest\n",
    "# [GoogleTest][]\n",
    "\n",
    "本プロジェクトでは、ユニットテストに[GoogleTest][]を使用します。\n",
    "\n",
    "[GoogleTest][]は、C/C++用のテストフレームワークです。\n",
    "[GoogleTest][]の`gtest`,`gtest_main`,`gmock`を使用します\n",
    "\n",
    "* `gtest`はTest用のフレームワークで、\n",
    "* `gtest_main`は毎回テスト用の`main()`関数を書かなくても良いようにしてくれるものです。\n",
    "* `gmock`はTest用のMockフレームワークです。\n"
   ]
  },
  {
   "cell_type": "markdown",
   "metadata": {
    "pycharm": {
     "name": "#%% md\n"
    },
    "slideshow": {
     "slide_type": "slide"
    }
   },
   "source": [
    "# sub-directory の追加\n",
    "\n",
    "top-directory から \"*.[ch]\" などの source-code を `src` directory 以下に、  \n",
    "\"*.{cpp,hpp}\"などの test-code を `test` directory 以下に、それぞれ配置することにします。\n",
    "\n",
    "また、`enable_testing()`で`CTest`を有効化します。\n",
    "`CTest`はテストの実行と結果表示をしてくれるコマンドです。\n",
    "\n",
    "**注意事項**:`enable_testing()`はtop-directoryの`CMakeLists.txt`に書く必要があります。\n",
    "\n",
    "```CMake:<top-directory>/CMakeLists.txt\n",
    "add_subdirectory(src)\n",
    "if (NOT without-test)\n",
    "    enable_testing()\n",
    "    add_subdirectory(test)\n",
    "endif()\n",
    "```"
   ]
  },
  {
   "cell_type": "markdown",
   "source": [
    "# include directory の設定\n",
    "\n",
    "source-code で include するヘッダファイルの置き場所を\n",
    "`include_directories()` を使って指定します。\n",
    "\n",
    "```CMake:<top-directory>/src/CMakeLists.txt\n",
    "include_directories(${src_dir})\n",
    "```\n",
    "\n",
    "先に CACHE を使って指定した変数は `${}` で参照することができます。　  \n",
    "または、明示的に `$CACHE{}` を使って参照することもできます。\n"
   ],
   "metadata": {
    "collapsed": false,
    "pycharm": {
     "name": "#%% md\n"
    }
   }
  },
  {
   "cell_type": "markdown",
   "source": [
    "# link directory の設定\n",
    "\n",
    "object-file が link する他のオブジェクトファイルの置き場所を\n",
    "`link_directories()` を使って指定します。\n",
    "\n",
    "```CMake:<top-directory>/src/CMakeLists.txt\n",
    "link_directories(${lib_dir})\n",
    "```\n"
   ],
   "metadata": {
    "collapsed": false
   }
  },
  {
   "cell_type": "markdown",
   "source": [
    "[CMake]: https://cmake.org/\n",
    "# [CMake][]の変数表示\n",
    "\n",
    "CMake を使っていて、意図通りに動作しないことがあります。  \n",
    "そのようなときには、[CMake][]で使用されている変数を全て出力することで、  \n",
    "意図通りに動作しない原因を見つける手助けとなります。\n",
    "\n",
    "```CMake:<top-directory>/src/CMakeLists.txt\n",
    "get_cmake_property(_variable_names VARIABLES)\n",
    "```\n",
    "まず、`get_cmake_property()`で `VARIABLES` プロパティに含まれている変数群を\n",
    "`_variable_names` に格納します。\n"
   ],
   "metadata": {
    "collapsed": false
   }
  },
  {
   "cell_type": "markdown",
   "source": [
    "[CMake]: https://cmake.org/\n",
    "# [CMake][]の変数表示 (cont'd)\n",
    "\n",
    "取得した変数群を`foeeach()`文で繰り返し、`message()`を使って、\n",
    "変数名`${_variable_name}`と\n",
    "変数名の値`${${_variable_name}}`を表示しています。\n",
    "```CMake:<top-directory>/src/CMakeLists.txt\n",
    "foreach(_variable_name ${_variable_names})\n",
    "    message(STATUS \"${_variable_name}=${${_variable_name}}\")\n",
    "endforeach()\n",
    "```\n",
    "\n",
    "##### References\n",
    "* [CMakeで設定されているすべての変数を出力する](http://zashikiro.hateblo.jp/entry/2014/05/17/001314)\n"
   ],
   "metadata": {
    "collapsed": false
   }
  },
  {
   "cell_type": "markdown",
   "source": [
    "# Comment out\n",
    "\n",
    "一行コメントアウトは`#`です。  \n",
    "複数行にわたるコメントアウトは、`#[[`から開始して`]]`で閉じます。\n",
    "\n",
    "```CMake:<top-directory>/src/CMakeLists.txt\n",
    "#[[\n",
    "message(STATUS \"*** src: dump start cmake variables ***\")\n",
    "get_cmake_property(_variable_names VARIABLES)\n",
    "foreach(_variable_name ${_variable_names})\n",
    "    message(STATUS \"${_variable_name}=${${_variable_name}}\")\n",
    "endforeach()\n",
    "message(STATUS \"*** src: dump end ***\")\n",
    "]]\n",
    "```\n"
   ],
   "metadata": {
    "collapsed": false
   }
  },
  {
   "cell_type": "markdown",
   "source": [
    "# compile 時の define 追加\n",
    "\n",
    "コンパイラに define を渡したいときは、`add_definitions()`を使って渡すことができます。\n",
    "\n",
    "```CMake:<top-directory>/src/CMakeLists.txt\n",
    "add_definitions(\"-DCSOMEIP_CONFIG_PATH=\\\"${CSOMEIP_CONFIG_PATH}\\\"\")\n",
    "```\n"
   ],
   "metadata": {
    "collapsed": false
   }
  },
  {
   "cell_type": "markdown",
   "source": [
    "# compile option の追加\n",
    "\n",
    "コンパイラにオプションを渡したいときは、`CMAKE_C_FLAGS`にコンパイラオプションを設定すれば、\n",
    "コンパイル時にコンパイラにオプションが渡されます。\n",
    "\n",
    "```CMake:<top-directory>/src/CMakeLists.txt\n",
    "set(cmake_c_warning_flags \"-Wall -W -Wno-sign-compare\")\n",
    "set(cmake_c_warning_flags \"${cmake_c_warning_flags} -Wno-unused-parameter\")\n",
    "set(CMAKE_C_FLAGS \"-std=c99 -std=c11 -std=gnu99 -g3 -O0 \\\n",
    "                   ${cmake_c_warning_flags})\n",
    "```\n"
   ],
   "metadata": {
    "collapsed": false
   }
  },
  {
   "cell_type": "markdown",
   "source": [
    "# compile 設定\n",
    "\n",
    "以下では、コンパイル対象のファイルを`file()`で`HOGE_SOURCES`変数に設定しています。\n",
    "`GLOB`コマンドを使うと、正規表現に似ているけどもっと簡単化した式が使えます。\n",
    "ここでは明示的にファイルを指定しているため、正規表現を使っていませんが、\n",
    "`*, ?, [a-Z]`などの特殊文字を使うことが出来ます。\n",
    "\n",
    "```CMake:<top-directory>/src/CMakeLists.txt\n",
    "file(GLOB HOGE_SOURCES hoge.c)\n",
    "```\n"
   ],
   "metadata": {
    "collapsed": false,
    "pycharm": {
     "name": "#%% md\n"
    }
   }
  },
  {
   "cell_type": "markdown",
   "source": [
    "# compile 設定 (cont'd)\n",
    "\n",
    "`add_library()`でライブラリを作成します。\n",
    "ここでは、静的ライブラリ(`STATIC`)`hoge`を`${HOGE_SOURCES}`変数に格納した\n",
    "ファイル群から作成します。\n",
    "`STATIC`の他に動的ライブラリ(`SHARED`)やプラグイン(`MODULE`:dlopen()などでロード)が使えます。\n",
    "\n",
    "```CMake:<top-directory>/src/CMakeLists.txt\n",
    "add_library(libhoge-static STATIC ${HOGE_SOURCES})\n",
    "```\n"
   ],
   "metadata": {
    "collapsed": false
   }
  },
  {
   "cell_type": "markdown",
   "source": [
    "# test compile 設定\n",
    "\n",
    "ここでは、テストコード`Test_hoge.cpp`をコンパイルし、  \n",
    "`add_executable()`を使って、`test_hoge` という実行ファイルを生成しています。\n",
    "\n",
    "そして、その実行ファイルにリンクするライブラリ群を\n",
    "`target_link_libraries()`を使ってリンクさせています。\n",
    "リンクするライブラリ順序は、依存されるライブラリを後に書きます。\n",
    "\n",
    "以下の例では、`test_hoge`は`jansson`に依存しています。\n",
    "(`gtest gmock gtest_main pthread`は\n",
    "自前のライブラリには依存していないので、どこに置いても構いません。)\n",
    "\n",
    "```CMake:<top-directory>/test/CMakeLists.txt\n",
    "file(GLOB HOGE_SOURCES Test_hoge.cpp)\n",
    "add_executable(test_hoge ${HOGE_SOURCES})\n",
    "target_link_libraries(test_hoge jansson\n",
    "                      gtest gmock gtest_main pthread)\n",
    "```\n"
   ],
   "metadata": {
    "collapsed": false,
    "pycharm": {
     "name": "#%% md\n"
    }
   }
  },
  {
   "cell_type": "markdown",
   "source": [
    "[GoogleTest]: https://github.com/google/googletest\n",
    "# test compile 設定 (cont'd)\n",
    "\n",
    "本プロジェクトでは、`CTest`を使います。`CTest`は、テストの実行を支援するテストランナーです。\n",
    "`CTest`に実行するテストコマンドを登録しておくと、`CTest`によって、それら登録されたテストが実行されます。\n",
    "\n",
    "テストコマンドの登録には`add_test()`を使います。\n",
    "また、テストコマンドにラベルを設定(`set_tests_properties()`)しておくと、\n",
    "`CTest -L <LabelName>`のように、ラベル名で実行するテストを指定することができます。\n",
    "\n",
    "```CMake:<top-directory>/test/CMakeLists.txt\n",
    "add_test(NAME Test_hoge COMMAND test_hoge)\n",
    "set_tests_properties(Test_hoge PROPERTIES LABELS Test_hoge)\n",
    "```\n"
   ],
   "metadata": {
    "collapsed": false
   }
  },
  {
   "cell_type": "markdown",
   "source": [
    "# install 指定\n",
    "\n",
    "`TARGETS`フォームでは、プロジェクトの成果物をインストールします。\n",
    "インストールする先のディレクトリは、`DESTINATION`で指定します。\n",
    "\n",
    "`DESTINATION`は、full-pathで指定するか、relative-pathの場合は、\n",
    "`CMAKE_INSTALL_PREFIX`で指定したディレクトリが使用されます。\n",
    "\n",
    "以下の例では、`${CMAKE_INSTALL_PREFIX}/lib`にインストールされます。\n",
    "\n",
    "```CMake:<top-directory>/src/CMakeLists.txt\n",
    "install(TARGETS libhoge DESTINATION lib)\n",
    "install(TARGETS libhoge-static DESTINATION lib)\n",
    "```\n"
   ],
   "metadata": {
    "collapsed": false
   }
  },
  {
   "cell_type": "markdown",
   "source": [
    "# install 指定 (cont'd)\n",
    "\n",
    "`FILES`フォームでは、プロジェクトで用いるファイルをインストールします。\n",
    "以下では使用していませんが、`FILES`フォームでは、ファイルのpermissionsなどの指定もできます。\n",
    "\n",
    "```CMake:<top-directory>/src/CMakeLists.txt\n",
    "install(FILES ${API_HEADERS} DESTINATION include)\n",
    "```\n"
   ],
   "metadata": {
    "collapsed": false
   }
  },
  {
   "cell_type": "markdown",
   "source": [
    "[gcovr]: https://www.gcovr.com/en/stable/\n",
    "# Coverage 算出\n",
    "\n",
    "ソフトウェア開発においては、開発メトリクスの集計や品質を計測するために\n",
    "テストカバレッジを計測することがあります。\n",
    "\n",
    "コンパイル時にカバレッジ用のオプションを追加することで、\n",
    "後で[gcovr][]を使って、テストカバレッジを算出することができます。\n",
    "\n",
    "```CMake:<top-directory>/src/CMakeLists.txt\n",
    "set(test_coverage_flags \"-fprofile-arcs -ftest-coverage\")\n",
    "set(CMAKE_C_FLAGS ${cmake_c_warning_flags} ${test_coverage_flags}\")\n",
    "set(CMAKE_EXE_LINKER_FLAGS ${test_coverage_flags})\n",
    "```\n"
   ],
   "metadata": {
    "collapsed": false,
    "pycharm": {
     "name": "#%% md\n"
    }
   }
  }
 ],
 "metadata": {
  "celltoolbar": "Slideshow",
  "kernelspec": {
   "display_name": "Python 3",
   "language": "python",
   "name": "python3"
  },
  "language_info": {
   "codemirror_mode": {
    "name": "ipython",
    "version": 3
   },
   "file_extension": ".py",
   "mimetype": "text/x-python",
   "name": "python",
   "nbconvert_exporter": "python",
   "pygments_lexer": "ipython3",
   "version": "3.7.3"
  },
  "livereveal": {
   "center": false,
   "controls": true,
   "progress": true,
   "scroll": true,
   "slideNumber": true,
   "start_slideshow_at": "selected",
   "transition": "slide"
  },
  "pycharm": {
   "stem_cell": {
    "cell_type": "raw",
    "source": [],
    "metadata": {
     "collapsed": false
    }
   }
  },
  "rise": {
   "auto_select": "code",
   "auto_select_fragment": true,
   "autolaunch": true,
   "enable_chalkboard": true,
   "scroll": true,
   "start_slideshow_at": "beginning",
   "theme": "sky",
   "transition": "zoom"
  }
 },
 "nbformat": 4,
 "nbformat_minor": 2
}