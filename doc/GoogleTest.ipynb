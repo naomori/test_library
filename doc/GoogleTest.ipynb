{
 "cells": [
  {
   "cell_type": "markdown",
   "source": [
    "[GoogleTest]: https://github.com/google/googletest\n",
    "[CMake]: https://cmake.org/\n",
    "# [GoogleTest][] による UnitTest\n",
    "\n",
    "[CMake][]によって、Build&Test環境の準備が出来たところで、\n",
    "[GoogleTest][]によって UnitTest を作成&実行します。\n",
    "\n",
    "### References\n",
    "[GoogleTest][]についての使い方は以下を読むと大抵は分かると思います。\n",
    "* [Google Test ドキュメント日本語訳 - 入門ガイド](http://opencv.jp/googletestdocs/primer.html#)\n",
    "* [Google Test ドキュメント日本語訳 - 上級ガイド](http://opencv.jp/googletestdocs/advancedguide.html#advancedguide)\n"
   ],
   "metadata": {
    "collapsed": false
   }
  },
  {
   "cell_type": "markdown",
   "source": [
    "# UnitTest の作成\n",
    "\n",
    "ここで UnitTest 用のテストコードファイルの構成を示します。\n",
    "\n",
    "```cpp\n",
    "#include \"gtest/gtest.h\"\n",
    "#include \"gmock/gmock.h\"\n",
    "\n",
    "/// テストコード用に include が必要であれば、\n",
    "/// この辺に書いておきます。\n",
    "\n",
    "// ::testing::Testクラスからの派生クラスとしてのテスト用クラスを定義します。\n",
    "class Test_hoge: public ::testing::Test {\n",
    "// フィクスチャの派生クラスからフィクスチャメンバにアクセスしたいため、\n",
    "// protected でメンバを宣言します。\n",
    "protected:\n",
    "    virtual void SetUp() {\n",
    "        // SetUp() はテストごとにオブジェクトの準備をするためのものです。\n",
    "        hoge_initialize();\n",
    "    }\n",
    "    virtual void TearDown() {\n",
    "        // TearDown() は SetUp()で確保されたリソースを解放するためのもので、\n",
    "        // SetUp() と同様にテストごとに実行されます。\n",
    "        hoge_finalize();\n",
    "    }\n",
    "    \n",
    "    // ここに必要ならば、複数のテストで共有するサブルーチンやインスタンス変数などを書きます。\n",
    "    void *hoge;\n",
    "    void *fuga;\n",
    "    \n",
    "    void hoge_calloc() {\n",
    "        // hoge hoge\n",
    "        hoge = calloc(1, sizeof(int));\n",
    "    }\n",
    "    void fuga_calloc() {\n",
    "        // fuga fuga\n",
    "        fuga = calloc(1, sizeof(int));\n",
    "    }   \n",
    "};\n",
    "\n",
    "// ここで、テスト関数で利用する Assertion の宣言を行っておきます。\n",
    "// いろんな種類の Assertion があるので、検査したいことに一致するものがあるかどうか\n",
    "// ガイドを読むことで確認できます。\n",
    "using ::testing::Eq;\n",
    "\n",
    "// TEST_F()でテスト関数を作成します。\n",
    "TEST_F(Test_hoge/*上で定義したテスト用クラスを書きます*/, hogehoge/*任意のテスト名です*/)\n",
    "{\n",
    "    // 実行前に SetUp() が実行されます。\n",
    "    int a = 0;\n",
    "    ASSERT_EQ(0, a);\n",
    "    // 実行後に TearDown() が実行されます。\n",
    "}\n",
    "\n",
    "// 複数テストを実施したい場合は、複数のテスト関数を作成します。\n",
    "TEST_F(Test_hoge, fugafuga)\n",
    "{\n",
    "    // 実行前に SetUp() が実行されます。\n",
    "    \n",
    "    // Setup(), TearDown()はテスト関数ごとに実行されます。\n",
    "    int b = 0;\n",
    "    ASSERT_EQ(0, b);\n",
    "    \n",
    "    // 実行後に TearDown() が実行されます。\n",
    "}\n",
    "\n",
    "// gtest_main ライブラリを link していれば、main()関数を用意する必要はありません。\n",
    "```\n"
   ],
   "metadata": {
    "collapsed": false,
    "pycharm": {
     "name": "#%% md\n"
    }
   }
  },
  {
   "cell_type": "markdown",
   "source": [
    "# UnitTest の実行\n",
    "UnitTest の実行には`CTest`が使えます。\n",
    "\n",
    "```bash\n",
    "$ pushd build\n",
    "$ cmake ..\n",
    "$ make\n",
    "$ ctest -V\n",
    "```\n",
    "\n",
    "`ctest- V`の実行結果は以下のように、テスト結果と実行時間などが表示されます。\n",
    "```\n",
    "1: [==========] Running 1 test from 1 test case.\n",
    "1: [----------] Global test environment set-up.\n",
    "1: [----------] 1 test from Test_hoge\n",
    "1: [ RUN      ] Test_hoge.new_destroy\n",
    "1: [       OK ] Test_hoge.new_destroy (0 ms)\n",
    "1: [----------] 1 test from Test_hoge (0 ms total)\n",
    "1: \n",
    "1: [----------] Global test environment tear-down\n",
    "1: [==========] 1 test from 1 test case ran. (0 ms total)\n",
    "1: [  PASSED  ] 1 test.\n",
    "1/1 Test #1: Test_hoge ........................   Passed    0.00 sec\n",
    "\n",
    "100% tests passed, 0 tests failed out of 1\n",
    "\n",
    "Label Time Summary:\n",
    "Test_hoge    =   0.00 sec*proc (1 test)\n",
    "\n",
    "Total Test time (real) =   0.01 sec\n",
    "```\n"
   ],
   "metadata": {
    "collapsed": false
   }
  },
  {
   "cell_type": "markdown",
   "source": [
    "# UnitTest の実行 (cont'd)\n",
    "また、特定のテストを実行したい場合は、\n",
    "以下のように`-L`オプションで先のテスト用クラスを指定すれば、指定のテストのみを実行できます。\n",
    "\n",
    "```bash\n",
    "$ ctest -V -L <RegularExpression>\n",
    "```\n",
    "\n",
    "e.g. 末尾が `_hoge` で終わるテスト用クラスのみ、テストを実行する。\n",
    "```bash\n",
    "$ ctest -V -L _hoge$\n",
    "```\n"
   ],
   "metadata": {
    "collapsed": false,
    "pycharm": {
     "name": "#%% md\n"
    }
   }
  }
 ],
 "metadata": {
  "language_info": {
   "codemirror_mode": {
    "name": "ipython",
    "version": 2
   },
   "file_extension": ".py",
   "mimetype": "text/x-python",
   "name": "python",
   "nbconvert_exporter": "python",
   "pygments_lexer": "ipython2",
   "version": "2.7.6"
  },
  "kernelspec": {
   "name": "python3",
   "language": "python",
   "display_name": "Python 3"
  },
  "pycharm": {
   "stem_cell": {
    "cell_type": "raw",
    "source": [],
    "metadata": {
     "collapsed": false
    }
   }
  }
 },
 "nbformat": 4,
 "nbformat_minor": 0
}